{
  "nbformat": 4,
  "nbformat_minor": 0,
  "metadata": {
    "colab": {
      "provenance": []
    },
    "kernelspec": {
      "name": "python3",
      "display_name": "Python 3"
    },
    "language_info": {
      "name": "python"
    }
  },
  "cells": [
    {
      "cell_type": "code",
      "execution_count": null,
      "metadata": {
        "colab": {
          "base_uri": "https://localhost:8080/"
        },
        "id": "GHmYkjDh0vpo",
        "outputId": "be7e6491-b8d8-41f9-f190-7500ac58e69e"
      },
      "outputs": [
        {
          "output_type": "stream",
          "name": "stdout",
          "text": [
            "Температури в Фаренгейтах: [50.0, 59.9, 62.78, 63.68, 66.2, 67.82, 77.0, 78.44, 82.4, 84.2, 86.18]\n",
            "Всього вимірювань: 11\n"
          ]
        }
      ],
      "source": [
        "C = [10.0, 15.5, 17.1, 17.6, 19.0, 19.9, 25.0, 25.8, 28.0, 29.0, 30.1]\n",
        "\n",
        "F = [(c * 9/5) + 32 for c in C]\n",
        "\n",
        "print(\"Температури в Фаренгейтах:\", F)\n",
        "print(\"Всього вимірювань:\", len(F))\n"
      ]
    },
    {
      "cell_type": "code",
      "source": [
        "grades = (4, 5, 4, 4, 3, 5, 3, 3, 2, 5, 5, 5)\n",
        "\n",
        "# Перевіряємо, чи є число 2 в кортежі оцінок\n",
        "if 2 in grades:\n",
        "    print('Студент має принаймні одну двійку з дисципліни!')\n",
        "else:\n",
        "    print('Студент вчиться без двійок')"
      ],
      "metadata": {
        "colab": {
          "base_uri": "https://localhost:8080/"
        },
        "id": "6jt5t_qo1XhP",
        "outputId": "bcb682a0-200f-4e69-aa54-0542cbceb71d"
      },
      "execution_count": null,
      "outputs": [
        {
          "output_type": "stream",
          "name": "stdout",
          "text": [
            "Студент має принаймні одну двійку з дисципліни!\n"
          ]
        }
      ]
    },
    {
      "cell_type": "code",
      "source": [
        "students = {\"Васильєв\": 3.5, \"Семенов\": 4.0, \"Петров\": 4.5, \"Іванов\": 3.0, \"Мар'їн\": 5.0}\n",
        "\n",
        "for student in students.keys():\n",
        "    students[student] = students[student] + 1 if students[student] + 1 <= 5.0 else 5.0\n",
        "\n",
        "print(students)\n"
      ],
      "metadata": {
        "colab": {
          "base_uri": "https://localhost:8080/"
        },
        "id": "zbYs_-wG1ZLt",
        "outputId": "0095e734-53f8-4ef7-f756-9fa49d8f0b35"
      },
      "execution_count": null,
      "outputs": [
        {
          "output_type": "stream",
          "name": "stdout",
          "text": [
            "{'Васильєв': 4.5, 'Семенов': 5.0, 'Петров': 5.0, 'Іванов': 4.0, \"Мар'їн\": 5.0}\n"
          ]
        }
      ]
    },
    {
      "cell_type": "code",
      "source": [
        "responces = [\"Іванов\", \"Петров\", \"Сидоров\", \"Васильєв\", \"Семенов\", \"Іванов\", \"Мар'їн\", \"Сидоров\", \"Дмитрієв\", \"Іванов\"]\n",
        "\n",
        "respondents = set(responces)\n",
        "\n",
        "print(\"Всього анкет заповнено:\", len(responces))\n",
        "print(\"Всього респондентів:\", len(respondents))\n"
      ],
      "metadata": {
        "colab": {
          "base_uri": "https://localhost:8080/"
        },
        "id": "0fPTXp4_1y8-",
        "outputId": "70c3d01a-17f5-4eda-e300-5926801b16ed"
      },
      "execution_count": null,
      "outputs": [
        {
          "output_type": "stream",
          "name": "stdout",
          "text": [
            "Всього анкет заповнено: 10\n",
            "Всього респондентів: 7\n"
          ]
        }
      ]
    },
    {
      "cell_type": "code",
      "source": [
        "def sqrPlus1(x):\n",
        "    return (x ** 2) + 1\n",
        "\n",
        "numbers = []\n",
        "n = 1\n",
        "while n <= 10:\n",
        "    x = int(input(f\"{n} - введіть число від 0 до 10:\"))\n",
        "\n",
        "    if 0 <= x <= 10:\n",
        "        numbers.append(sqrPlus1(x))\n",
        "    else:\n",
        "        print(\"Потрібне число від 0 до 10!\")\n",
        "    n = n + 1\n",
        "\n",
        "print(numbers)\n"
      ],
      "metadata": {
        "colab": {
          "base_uri": "https://localhost:8080/"
        },
        "id": "Z37Gxq-b2AGk",
        "outputId": "7a39e994-5768-40b5-f061-6fcae66ba871"
      },
      "execution_count": null,
      "outputs": [
        {
          "output_type": "stream",
          "name": "stdout",
          "text": [
            "1 - введіть число від 0 до 10:6\n",
            "2 - введіть число від 0 до 10:2\n",
            "3 - введіть число від 0 до 10:7\n",
            "4 - введіть число від 0 до 10:8\n",
            "5 - введіть число від 0 до 10:3\n",
            "6 - введіть число від 0 до 10:9\n",
            "7 - введіть число від 0 до 10:8\n",
            "8 - введіть число від 0 до 10:7\n",
            "9 - введіть число від 0 до 10:0\n",
            "10 - введіть число від 0 до 10:1\n",
            "[37, 5, 50, 65, 10, 82, 65, 50, 1, 2]\n"
          ]
        }
      ]
    },
    {
      "cell_type": "code",
      "source": [
        "add = lambda a, b: a + b\n",
        "sub = lambda a, b: a - b\n",
        "mul = lambda a, b: a * b\n",
        "div = lambda a, b: a / b if b != 0 else 0\n",
        "\n",
        "a = int(input(\"Введіть перше число:\"))\n",
        "b = int(input(\"Введіть друге число:\"))\n",
        "c = 0\n",
        "\n",
        "menu = {}\n",
        "menu['1']=\"Додати числа\"\n",
        "menu['2']=\"Відняти числа\"\n",
        "menu['3']=\"Перемножити числа\"\n",
        "menu['4']=\"Поділити числа\"\n",
        "menu['5']=\"завершити роботу\"\n",
        "options=menu.keys()\n",
        "for entry in options:\n",
        "    print(entry, menu[entry])\n",
        "while True:\n",
        "  selection=input(\"Оберіть операцію:\")\n",
        "  if selection =='1':\n",
        "    print(\"Додавання:\", add(a, b))\n",
        "  elif selection == '2':\n",
        "    print(\"Віднімання:\", sub(a, b))\n",
        "  elif selection == '3':\n",
        "    print(\"Множення:\",mul(a, b))\n",
        "  elif selection == '4':\n",
        "    print(\"Ділення\",div(a, b))\n",
        "  elif selection == '5':\n",
        "    break\n",
        "  else:\n",
        "    print (\"Невідома операція!\")\n"
      ],
      "metadata": {
        "colab": {
          "base_uri": "https://localhost:8080/"
        },
        "id": "5BBv8Dwz2MtE",
        "outputId": "ed23b969-e2b7-483c-fe05-cbfa5273a8a1"
      },
      "execution_count": null,
      "outputs": [
        {
          "name": "stdout",
          "output_type": "stream",
          "text": [
            "Введіть перше число:5\n",
            "Введіть друге число:1\n",
            "1 Додати числа\n",
            "2 Відняти числа\n",
            "3 Перемножити числа\n",
            "4 Поділити числа\n",
            "5 завершити роботу\n",
            "Оберіть операцію:2\n",
            "Віднімання: 4\n",
            "Оберіть операцію:3\n",
            "Множення: 5\n",
            "Оберіть операцію:1\n",
            "Додавання: 6\n",
            "Оберіть операцію:4\n",
            "Ділення 5.0\n",
            "Оберіть операцію:5\n"
          ]
        }
      ]
    },
    {
      "cell_type": "code",
      "source": [
        "def controlEngine(id, name, operation=\"стоп\", priority=\"високий\"):\n",
        "    print('Агрегат:', name, '#', id, \"\\n\\tОбрана операція:\", operation, \"\\n\\tПриорітет:\", priority)\n",
        "\n",
        "controlEngine(1, \"реактор\")\n",
        "controlEngine(1, \"реактор\", \"запуск\")\n",
        "controlEngine(1, \"реактор\", priority=\"звичайний\")\n",
        "controlEngine(operation=\"запуск\", id=1, name=\"реактор\", priority=\"звичайний\")\n"
      ],
      "metadata": {
        "id": "H2Yq-m9G2mLa",
        "outputId": "5b31b440-b50a-4957-815b-5a533e40f62c",
        "colab": {
          "base_uri": "https://localhost:8080/"
        }
      },
      "execution_count": null,
      "outputs": [
        {
          "output_type": "stream",
          "name": "stdout",
          "text": [
            "Агрегат: реактор # 1 \n",
            "\tОбрана операція: стоп \n",
            "\tПриорітет: високий\n",
            "Агрегат: реактор # 1 \n",
            "\tОбрана операція: запуск \n",
            "\tПриорітет: високий\n",
            "Агрегат: реактор # 1 \n",
            "\tОбрана операція: стоп \n",
            "\tПриорітет: звичайний\n",
            "Агрегат: реактор # 1 \n",
            "\tОбрана операція: запуск \n",
            "\tПриорітет: звичайний\n"
          ]
        }
      ]
    }
  ]
}